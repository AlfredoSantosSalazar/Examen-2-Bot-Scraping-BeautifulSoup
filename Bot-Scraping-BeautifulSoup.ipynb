{
 "cells": [
  {
   "cell_type": "code",
   "execution_count": 1,
   "id": "09b12026-ea99-4445-9578-61c65ca9d5b7",
   "metadata": {},
   "outputs": [],
   "source": [
    "# Importing required libraries\n",
    "import time\n",
    "import pymongo\n",
    "from selenium.webdriver.firefox.options import Options as FirefoxOptions\n",
    "from bs4 import BeautifulSoup\n",
    "from selenium import webdriver\n",
    "\n",
    "from pymongo import MongoClient"
   ]
  },
  {
   "cell_type": "code",
   "execution_count": 2,
   "id": "160dcb4f-2a3b-4d5a-b1b8-618c1c9e171e",
   "metadata": {},
   "outputs": [],
   "source": [
    "# Creating a connection to MongoDB\n",
    "client = MongoClient('localhost', 27017)\n",
    "db = client['Examen2']\n",
    "collection = db['Candidatos']"
   ]
  },
  {
   "cell_type": "code",
   "execution_count": 3,
   "id": "f8fcb4c2-2808-4081-bb33-4af9569baabe",
   "metadata": {},
   "outputs": [],
   "source": [
    "# Base URL of the site to be analyzed\n",
    "SITE_URL = 'https://alianzaverde.org.co/'"
   ]
  },
  {
   "cell_type": "code",
   "execution_count": 4,
   "id": "c4ff6a1f-16df-48a1-856e-b691d71f4d81",
   "metadata": {},
   "outputs": [],
   "source": [
    "# Firefox web driver path\n",
    "DRIVER_PATH = './geckodriver.exe'"
   ]
  },
  {
   "cell_type": "code",
   "execution_count": 5,
   "id": "a8f6e968-8e44-4362-87c2-7ae097528064",
   "metadata": {},
   "outputs": [
    {
     "name": "stderr",
     "output_type": "stream",
     "text": [
      "C:\\Users\\ALFRED~1\\AppData\\Local\\Temp/ipykernel_16596/1910320475.py:2: DeprecationWarning: executable_path has been deprecated, please pass in a Service object\n",
      "  browser = webdriver.Firefox(executable_path = DRIVER_PATH)\n"
     ]
    }
   ],
   "source": [
    "# Creating a new firefox window\n",
    "browser = webdriver.Firefox(executable_path = DRIVER_PATH)"
   ]
  },
  {
   "cell_type": "code",
   "execution_count": 6,
   "id": "ccaaf5dc-e8a3-4caa-86e8-d0398d9a80b1",
   "metadata": {},
   "outputs": [],
   "source": [
    "def make_request(browser, relative_path):\n",
    "    # Making the request and rendering the browser\n",
    "    browser.get(SITE_URL + relative_path)\n",
    "    \n",
    "    # Simulating vertical scrolling for handling lazy load\n",
    "    check_height = browser.execute_script('return document.body.scrollHeight;')\n",
    "    while True:\n",
    "        browser.execute_script('window.scrollTo(0, document.body.scrollHeight);')\n",
    "        time.sleep(3)\n",
    "        height = browser.execute_script('return document.body.scrollHeight;')\n",
    "        if height == check_height: \n",
    "            break \n",
    "        check_height = height\n",
    "    \n",
    "    # Getting HTML content and passing it to BeautifulSoup for scraping analysis\n",
    "    return BeautifulSoup(browser.page_source, 'html.parser')"
   ]
  },
  {
   "cell_type": "code",
   "execution_count": 7,
   "id": "c3786dda-69ee-4f77-b1c7-ff9604dc3dcf",
   "metadata": {},
   "outputs": [],
   "source": [
    "# Getting HTML content for a particular news listing page\n",
    "soup = make_request(browser, '/lideres-verdes/congreso-2022/senado-2022')"
   ]
  },
  {
   "cell_type": "code",
   "execution_count": 8,
   "id": "6fc76001-156f-4bfb-9ea3-d2d2be6bf029",
   "metadata": {},
   "outputs": [],
   "source": [
    "pages = soup.find(class_ = 'main-body')"
   ]
  },
  {
   "cell_type": "code",
   "execution_count": 9,
   "id": "35911ab0-4a19-4a10-96de-d8b69ffd20c2",
   "metadata": {},
   "outputs": [
    {
     "name": "stdout",
     "output_type": "stream",
     "text": [
      "9\n"
     ]
    }
   ],
   "source": [
    "sppbs = pages.find_all(class_ = 'sppb-wow', recursive = True)\n",
    "print(len(sppbs))"
   ]
  },
  {
   "cell_type": "code",
   "execution_count": 10,
   "id": "348e9682-2588-4abe-b02b-3a3fc222ff2f",
   "metadata": {},
   "outputs": [
    {
     "data": {
      "text/plain": [
       "36"
      ]
     },
     "execution_count": 10,
     "metadata": {},
     "output_type": "execute_result"
    }
   ],
   "source": [
    "# Finding and concatenating news cards\n",
    "cards = sppbs[0].find_all(class_ = 'sppb-col-md-3') + sppbs[1].find_all(class_ = 'sppb-col-md-3') + sppbs[2].find_all(class_ = 'sppb-col-md-3') + sppbs[3].find_all(class_ = 'sppb-col-md-3')+ sppbs[4].find_all(class_ = 'sppb-col-md-3') + sppbs[5].find_all(class_ = 'sppb-col-md-3') + sppbs[6].find_all(class_ = 'sppb-col-md-3') + sppbs[7].find_all(class_ = 'sppb-col-md-3') + sppbs[8].find_all(class_ = 'sppb-col-md-3')\n",
    "len(cards)"
   ]
  },
  {
   "cell_type": "code",
   "execution_count": 12,
   "id": "cc27d07c-f733-4311-aab0-2d3f8055bd42",
   "metadata": {},
   "outputs": [],
   "source": [
    "# Building a list with title and relative path of the news founded\n",
    "data = []\n",
    "\n",
    "for text in cards: \n",
    "        data.append({\n",
    "            'Imagen': text.find('img', class_ = 'sppb-img-responsive').get('src'),\n",
    "            'Descripcion': text.find('span', class_ = 'sppb-person-designation').get_text(),\n",
    "            'Redes': text.find('ul', class_ = 'sppb-person-social').find('a')['href']\n",
    "        })"
   ]
  },
  {
   "cell_type": "code",
   "execution_count": 13,
   "id": "44ad4aa6-daf4-4f11-86cb-a79ead6c9ae2",
   "metadata": {},
   "outputs": [
    {
     "data": {
      "text/plain": [
       "[{'Imagen': '/images/Candidatos_2022/senado/2.jpg',\n",
       "  'Descripcion': 'Abogada y filósofa, con un máster en Ciencias de la Administración Pública, en Alemania. Experta en gestión pública, descentralización, transparencia, buen gobierno, modernización del estado, cultura ciudadana y cooperación internacional, temas en los cuales se ha desempeñado alternativamente como servidora pública, consultora y docente.',\n",
       "  'Redes': 'https://twitter.com/VivianaBarbere '},\n",
       " {'Imagen': '/images/Candidatos_2022/senado/3.jpg',\n",
       "  'Descripcion': 'Nacida de seres excepcionales, en tiempos inciertos; es la mujer de retos resueltos. Desde el inicio de su carrera política, su liderazgo se enfoca en mantener la cultura de la equidad, la familia y el fortalecimiento económico, político y social de las regiones en Colombia',\n",
       "  'Redes': 'https://www.facebook.com/sandraortizsenadora'},\n",
       " {'Imagen': '/images/Candidatos_2022/senado/5.jpg',\n",
       "  'Descripcion': 'Destacado Senador de la República en el año 2010 fue disciplinado y estricto en el cumplimiento de su función en la producción legislativa y el ejercicio del control político; en particular, participó de forma definitiva en los Proyectos de Ley y de Acto Legislativo trascendentales para el país.',\n",
       "  'Redes': 'https://www.facebook.com/JorgeELondonoU/'},\n",
       " {'Imagen': '/images/Candidatos_2022/senado/7.jpg',\n",
       "  'Descripcion': 'Egresado de la Facultad de Derecho de la Pontificia Universidad Javeriana; fue Diputado a la Asamblea de Cundinamarca, Concejal, Representante a la Cámara por Bogotá y Senador, además de ser fundador del Partido Alianza Verde. Correo de contacto',\n",
       "  'Redes': 'https://www.facebook.com/SenadorIvanName '},\n",
       " {'Imagen': '/images/Candidatos_2022/senado/8.jpg',\n",
       "  'Descripcion': 'Como congresista pertenece a la Comisión sexta, la comisión de paz y la Comisión de Derechos Humanos. Ha presentado iniciativas para reformar el sistema general de participaciones y la jornada laboral. Ha presentado proyectos de ley que fortalezcan la nutrición saludable, el internet gratuito, el financiamiento a los cuerpos de bomberos, la creación de las provincias, entre otras.',\n",
       "  'Redes': 'https://www.facebook.com/Leonfredym'},\n",
       " {'Imagen': '/images/Candidatos_2022/senado/10.jpg',\n",
       "  'Descripcion': 'Ciudadana, activista cívica, abogada y Senadora de 2018 a 2022 por el partido Alianza Verde. Representante a la Cámara por Bogotá en 2014 - 2018. Magíster en Gerencia y Práctica del Desarrollo en la Universidad de los Andes y becaria del Instituto Nacional Demócrata (NDI).',\n",
       "  'Redes': 'https://www.facebook.com/angelicalozanocorrea/ '},\n",
       " {'Imagen': '/images/Candidatos_2022/senado/12.jpg',\n",
       "  'Descripcion': 'Nacida en Villa de Leyva Boyacá. Desde su infancia se caracterizó por el amor a su familia, solidaridad y capacidad de asumir retos. Ingeniera Industrial de la Universidad Pedagógica y Tecnológica de Colombia, con una Maestría en en pensamiento estratégico y perspectiva de la Universidad Externado de Colombia.',\n",
       "  'Redes': '/ https://www.facebook.com/karolina.jerez '},\n",
       " {'Imagen': '/images/Candidatos_2022/senado/14.jpg',\n",
       "  'Descripcion': 'Profesora universitaria. Autora de varias publicaciones sobre derechos animales y justicia juvenil restaurativa (Beca de Investigación del Grupo Coímbra. Programa de Becas para Jóvenes Profesores e Investigadores de Universidades de América Latina, 2009). Columnista ocasional de varios medios de comunicación.',\n",
       "  'Redes': 'https://www.facebook.com/andreanimalidad'},\n",
       " {'Imagen': '/images/Candidatos_2022/senado/18.jpg',\n",
       "  'Descripcion': 'Magíster en Gestión de la Tecnología Educativa. Ex presidente de Sindimaestros en Boyacá. Ex presidente de FECODE y actualmente Ejecutivo (tesorero)Dirigente estudiantil, sindical, social y político desde hace 32 años.',\n",
       "  'Redes': 'https://www.facebook.com/nelson.alarconsuarez.16 '},\n",
       " {'Imagen': '/images/Candidatos_2022/senado/20.jpg',\n",
       "  'Descripcion': 'Nació en Pereira en 1946, el cuarto de once hermanos, en la época de la Violencia… cuando liberales y conservadores se mataban. Por eso desde pequeño sabe que lo más importante para el país es que las personas aprendamos a convivir, a dignificar la existencia humana.',\n",
       "  'Redes': 'https://www.facebook.com/IvanMarulandaGomez'},\n",
       " {'Imagen': '/images/Candidatos_2022/senado/22.jpg',\n",
       "  'Descripcion': 'Miembro de la Comisión Segunda del Senado y Co-Presidente de la Comisión de Paz. Sociólogo, Magíster en Desarrollo Regional de la Universidad de Los Andes y Doctor en Gobierno y Administración Pública de la Universidad Complutense de Madrid. Fue Concejal de Bogotá de 2008 a diciembre de 2017.',\n",
       "  'Redes': 'https://www.facebook.com/antonio.sanguino.79 '},\n",
       " {'Imagen': '/images/Candidatos_2022/senado/26.jpg',\n",
       "  'Descripcion': 'Líder ambiental de Piedecuesta, ha sido visible en el movimiento ambiental del departamento. Trabajó en la Alcaldía de Piedecuesta en la Oficina de Control Interno. Terminó materias de administración de empresas en la Universidad Cooperativa de Colombia, y es perito certificado por la Lonja de Propiedad horizontal, así como tecnólogo del Sena en mercado y venta de bienes inmuebles.',\n",
       "  'Redes': 'https://www.facebook.com/fabiandiazcomunidad/ '},\n",
       " {'Imagen': '/images/Candidatos_2022/senado/28.jpg',\n",
       "  'Descripcion': 'Abogada de la Universidad Nacional de Colombia, trabajó con la Rama Judicial y el Acueducto de Bogotá como asesora jurídica. Actualmente es abogada militante. Literaria y novelista con publicaciones de sus escritos. Trabaja con la cultura y la comunidad en asuntos sociales.',\n",
       "  'Redes': 'https://www.facebook.com/PartidoAlianzaVerde'},\n",
       " {'Imagen': '/images/Candidatos_2022/senado/30.jpg',\n",
       "  'Descripcion': 'Profesional en Gobierno y Relaciones internacionales con maestría en Desarrollo Regional y dos años de experiencia en en entidades de cooperación internacional y del Estado. Enfoque de trabajo en gobernanza, construcción de paz, transparencia y equidad de género.',\n",
       "  'Redes': 'https://www.facebook.com/Linaarangorisaralda '},\n",
       " {'Imagen': '/images/Candidatos_2022/senado/32.jpg',\n",
       "  'Descripcion': 'Activista estudiantil vinculado a las luchas agrarias de los campesinos por la tierra para quien la trabaja de la ANUC línea Sincelejo. Fundador de la Asociación de adjudicatarios de vivienda del ICT y UPAC, fue su Presidente, Miembro destacado del Consejo Nacional de los pueblos cívicos comunales y la Coordinadora de Vivienda Popular en los años 1980. Líder sindical de la subdirectiva sindical de Telecom en Montería Córdoba, Miembro vicepresidente de  Consejo de planeación territorial del Atlántico en la primera generación de consejeros con el nacimiento de la ley de participación territorial. ',\n",
       "  'Redes': 'https://www.facebook.com/PartidoAlianzaVerde/'},\n",
       " {'Imagen': '/images/Candidatos_2022/senado/34.jpg',\n",
       "  'Descripcion': 'Abogado de la Universidad de los Andes, especialista en Estado, Políticas públicas y Desarrollo. Activista social y medio ambiental. Autor del libro titulado “Agua” fiel creyente de los cambios a través del proceso democrático y participativo, basado en los principios progresistas.',\n",
       "  'Redes': 'https://www.facebook.com/Frankcanossa '},\n",
       " {'Imagen': '/images/Candidatos_2022/senado/36.jpg',\n",
       "  'Descripcion': 'Abogado de la Universidad de los Andes, Especialista en Derecho, Magíster en Educación y en Derecho, Doctor en Derecho (PDH). INVESTIGADOR SENIOR RECONOCIDO POR MIN CIENCIAS. AUTOR DE DIFERENTES LIBROS EN ÁREAS EDUCATIVAS Y JURÍDICAS.',\n",
       "  'Redes': 'https://www.facebook.com/js.perilla117'},\n",
       " {'Imagen': '/images/Candidatos_2022/senado/38.jpg',\n",
       "  'Descripcion': 'Secretario de Educación del Departamento de Bolívar. -Primer Secretario de Educación del Distrito de Cartagena. Gobernador del Departamento de Bolívar, por elección popular. -Presidente del Consejo Superior de la Universidad de Cartagena. -Docente Especial Tiempo Completo- Escuela Superior de Administración Pública-ESAP. ',\n",
       "  'Redes': '/www.facebook.com/luis.d.sanchez.16'},\n",
       " {'Imagen': '/images/Candidatos_2022/senado/40.jpg',\n",
       "  'Descripcion': 'Nacido en Samaná Caldas, estudió economía y comercio exterior en la Universidad de los Libertadores. Empresario enfocado en el sector inmobiliario.  Su apuesta está centrada en el sector campo.',\n",
       "  'Redes': 'https://www.facebook.com/JorgeELondonoU/'},\n",
       " {'Imagen': '/images/Candidatos_2022/senado/42.jpg',\n",
       "  'Descripcion': 'Bogotana, Abogada defensora de los derechos humanos, de la inclusión y diversidad, de los animales y el medio ambiente. Abogada litigante. Experiencia en Secretaría General de la Contraloría de  Cundinamarca, Personera Delegada para Protección a Víctimas, Personera Delegada para Seguridad y Convivencia, Directora y Subdirectora del Proceso de Responsabilidad Fiscal y Cobro Coactivo de la Contraloría de Bogotá.',\n",
       "  'Redes': 'https://www.facebook.com/PartidoAlianzaVerde/'},\n",
       " {'Imagen': '/images/Candidatos_2022/senado/44.jpg',\n",
       "  'Descripcion': 'Soy filósofa de la Universidad del Valle con Maestría en Estudios Políticos de la U. Javeriana, he ejercido la cátedra universitaria. Tengo una larga trayectoria como defensora de Derechos Humanos, y he desplegado un rico liderazgo social que me ha llevado a hacer contribuciones significativas al lado de los movimientos sociales y las víctimas del conflicto social y armado.',\n",
       "  'Redes': 'https://www.facebook.com/liliasolanor'},\n",
       " {'Imagen': '/images/Candidatos_2022/senado/48.jpg',\n",
       "  'Descripcion': 'Economista, magíster en gobierno. Reconocido por su sentido social, responsable, honesto, innovador, creativo y social. Ha desarrollado proyectos comunitarios y gobernabilidad en más de 43 consejos comunitarios en el territorio ancestral del norte del Cauca.',\n",
       "  'Redes': 'https://www.facebook.com/victorhugomorenom'},\n",
       " {'Imagen': '/images/Candidatos_2022/senado/52.jpg',\n",
       "  'Descripcion': 'Empresaria, consultora organizacional en procesos de transformación. Víctima del atentado de las Farc al Club El Nogal. Incapacitada durante 8+años. Fui mi propio laboratorio de Perdón y Reconciliación. Ayudo a sanar corazones de víctimas y victimarios. Dirijo Encuentros Transformadores entre diversos (30años).  Pienso crear la política pública para la Transformación y Reconciliación.',\n",
       "  'Redes': 'https://www.youtube.com/channel/UC4S3hcMJV5jq4jXEs8Ltjow/videos'},\n",
       " {'Imagen': '/images/Candidatos_2022/senado/54.jpg',\n",
       "  'Descripcion': 'Creador de contenido digital político, reconocido por google con la placa de oro. Activista y líder político en redes sociales.',\n",
       "  'Redes': 'https://www.facebook.com/JotaPeHernandez'},\n",
       " {'Imagen': '/images/Candidatos_2022/senado/56.jpg',\n",
       "  'Descripcion': 'DALIA FERNANDA PINEDA',\n",
       "  'Redes': 'https://twitter.com/JorgeELondonoU'},\n",
       " {'Imagen': '/images/Candidatos_2022/senado/58.jpg',\n",
       "  'Descripcion': 'Abogado de la Universidad de Medellín, experto en derecho civil extracontractual y de tránsito. Creador del movimiento Sí Se Puede. ',\n",
       "  'Redes': 'https://www.facebook.com/SiSePuedeHernanEcheverri'},\n",
       " {'Imagen': '/images/Candidatos_2022/senado/60.jpg',\n",
       "  'Descripcion': 'Ex concejal de Manizales por el Partido Alianza Verde, en donde ha liderado y tenido resultados alrededor de la defensa y protección de los animales, logrando posicionar a la ciudad de Manizales como ejemplo de región en el manejo de Fauna Doméstica.',\n",
       "  'Redes': 'https://www.facebook.com/Hemayr.concejal '},\n",
       " {'Imagen': '/images/Candidatos_2022/senado/62.jpg',\n",
       "  'Descripcion': 'Representante de los Usuarios del ICETEX y líder del movimiento el ICETEX TE ARRUINA. Desde el 2013 ha investigado las anomalías del modelo de financiación y ha aunado esfuerzos en el Congreso de la República para lograr 4 leyes que podrían beneficiar a más de 800 mil usuarios.',\n",
       "  'Redes': 'https://www.facebook.com/icetextearruina/ '}]"
      ]
     },
     "execution_count": 13,
     "metadata": {},
     "output_type": "execute_result"
    }
   ],
   "source": [
    "data"
   ]
  },
  {
   "cell_type": "code",
   "execution_count": 14,
   "id": "de257c9a-4450-4c0b-b54f-0109cce9ba03",
   "metadata": {},
   "outputs": [
    {
     "data": {
      "text/plain": [
       "<pymongo.results.InsertManyResult at 0x2ce51b66dc0>"
      ]
     },
     "execution_count": 14,
     "metadata": {},
     "output_type": "execute_result"
    }
   ],
   "source": [
    "# Storing extracted information for further analysis\n",
    "collection.insert_many(data)"
   ]
  },
  {
   "cell_type": "code",
   "execution_count": null,
   "id": "1a17c321-5c0e-4222-8c31-5fe01d8d32b7",
   "metadata": {},
   "outputs": [],
   "source": []
  }
 ],
 "metadata": {
  "kernelspec": {
   "display_name": "Python 3 (ipykernel)",
   "language": "python",
   "name": "python3"
  },
  "language_info": {
   "codemirror_mode": {
    "name": "ipython",
    "version": 3
   },
   "file_extension": ".py",
   "mimetype": "text/x-python",
   "name": "python",
   "nbconvert_exporter": "python",
   "pygments_lexer": "ipython3",
   "version": "3.9.7"
  }
 },
 "nbformat": 4,
 "nbformat_minor": 5
}
