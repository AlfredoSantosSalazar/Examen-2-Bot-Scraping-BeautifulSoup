{
  "cells": [
    {
      "cell_type": "markdown",
      "source": [
        "### **Bot de Scapping utilizando la librería de BeautifulSoup**"
      ],
      "metadata": {
        "id": "4SGMRjg4P85C"
      },
      "id": "4SGMRjg4P85C"
    },
    {
      "cell_type": "code",
      "execution_count": null,
      "id": "dd10a301-4f94-48b7-9a97-0b84552f5a1b",
      "metadata": {
        "id": "dd10a301-4f94-48b7-9a97-0b84552f5a1b"
      },
      "outputs": [],
      "source": [
        "# Importing required libraries\n",
        "import datetime\n",
        "import time\n",
        "import pymongo\n",
        "import pandas as pd\n",
        "import sys\n",
        "\n",
        "from bs4 import BeautifulSoup\n",
        "from selenium import webdriver\n",
        "\n",
        "from pymongo import MongoClient\n",
        "from pymongo import TEXT"
      ]
    },
    {
      "cell_type": "code",
      "source": [
        ""
      ],
      "metadata": {
        "id": "kiZmCVqgP4us"
      },
      "id": "kiZmCVqgP4us",
      "execution_count": null,
      "outputs": []
    }
  ],
  "metadata": {
    "kernelspec": {
      "display_name": "Python 3 (ipykernel)",
      "language": "python",
      "name": "python3"
    },
    "language_info": {
      "codemirror_mode": {
        "name": "ipython",
        "version": 3
      },
      "file_extension": ".py",
      "mimetype": "text/x-python",
      "name": "python",
      "nbconvert_exporter": "python",
      "pygments_lexer": "ipython3",
      "version": "3.9.7"
    },
    "colab": {
      "name": "Bot-Scraping-BeautifulSoup.ipynb",
      "provenance": [],
      "collapsed_sections": []
    }
  },
  "nbformat": 4,
  "nbformat_minor": 5
}