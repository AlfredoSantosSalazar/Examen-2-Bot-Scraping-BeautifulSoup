{
 "cells": [
  {
   "cell_type": "code",
   "execution_count": 1,
   "id": "09b12026-ea99-4445-9578-61c65ca9d5b7",
   "metadata": {},
   "outputs": [],
   "source": [
    "# Importing required libraries\n",
    "import time\n",
    "import pymongo\n",
    "from selenium.webdriver.firefox.options import Options as FirefoxOptions\n",
    "from bs4 import BeautifulSoup\n",
    "from selenium import webdriver\n",
    "\n",
    "from pymongo import MongoClient"
   ]
  },
  {
   "cell_type": "code",
   "execution_count": 2,
   "id": "160dcb4f-2a3b-4d5a-b1b8-618c1c9e171e",
   "metadata": {},
   "outputs": [],
   "source": [
    "# Creating a connection to MongoDB\n",
    "client = MongoClient('localhost', 27017)\n",
    "db = client['Examen2']\n",
    "collection = db['Candidatos']"
   ]
  },
  {
   "cell_type": "code",
   "execution_count": 3,
   "id": "f8fcb4c2-2808-4081-bb33-4af9569baabe",
   "metadata": {},
   "outputs": [],
   "source": [
    "# Base URL of the site to be analyzed\n",
    "SITE_URL = 'https://alianzaverde.org.co/'"
   ]
  },
  {
   "cell_type": "code",
   "execution_count": 4,
   "id": "c4ff6a1f-16df-48a1-856e-b691d71f4d81",
   "metadata": {},
   "outputs": [],
   "source": [
    "# Firefox web driver path\n",
    "DRIVER_PATH = './geckodriver.exe'"
   ]
  },
  {
   "cell_type": "code",
   "execution_count": 5,
   "id": "a8f6e968-8e44-4362-87c2-7ae097528064",
   "metadata": {},
   "outputs": [
    {
     "name": "stderr",
     "output_type": "stream",
     "text": [
      "C:\\Users\\ALFRED~1\\AppData\\Local\\Temp/ipykernel_20068/1910320475.py:2: DeprecationWarning: executable_path has been deprecated, please pass in a Service object\n",
      "  browser = webdriver.Firefox(executable_path = DRIVER_PATH)\n"
     ]
    }
   ],
   "source": [
    "# Creating a new firefox window\n",
    "browser = webdriver.Firefox(executable_path = DRIVER_PATH)"
   ]
  },
  {
   "cell_type": "code",
   "execution_count": 6,
   "id": "ccaaf5dc-e8a3-4caa-86e8-d0398d9a80b1",
   "metadata": {},
   "outputs": [],
   "source": [
    "def make_request(browser, relative_path):\n",
    "    # Making the request and rendering the browser\n",
    "    browser.get(SITE_URL + relative_path)\n",
    "    \n",
    "    # Simulating vertical scrolling for handling lazy load\n",
    "    check_height = browser.execute_script('return document.body.scrollHeight;')\n",
    "    while True:\n",
    "        browser.execute_script('window.scrollTo(0, document.body.scrollHeight);')\n",
    "        time.sleep(3)\n",
    "        height = browser.execute_script('return document.body.scrollHeight;')\n",
    "        if height == check_height: \n",
    "            break \n",
    "        check_height = height\n",
    "    \n",
    "    # Getting HTML content and passing it to BeautifulSoup for scraping analysis\n",
    "    return BeautifulSoup(browser.page_source, 'html.parser')"
   ]
  },
  {
   "cell_type": "code",
   "execution_count": 7,
   "id": "c3786dda-69ee-4f77-b1c7-ff9604dc3dcf",
   "metadata": {},
   "outputs": [],
   "source": [
    "# Getting HTML content for a particular news listing page\n",
    "soup = make_request(browser, '/lideres-verdes/congreso-2022/senado-2022')"
   ]
  },
  {
   "cell_type": "code",
   "execution_count": 8,
   "id": "6fc76001-156f-4bfb-9ea3-d2d2be6bf029",
   "metadata": {},
   "outputs": [],
   "source": [
    "pages = soup.find(class_ = 'main-body')"
   ]
  },
  {
   "cell_type": "code",
   "execution_count": 9,
   "id": "35911ab0-4a19-4a10-96de-d8b69ffd20c2",
   "metadata": {},
   "outputs": [
    {
     "name": "stdout",
     "output_type": "stream",
     "text": [
      "9\n"
     ]
    }
   ],
   "source": [
    "sppbs = pages.find_all(class_ = 'sppb-wow', recursive = True)\n",
    "print(len(sppbs))"
   ]
  },
  {
   "cell_type": "code",
   "execution_count": 10,
   "id": "348e9682-2588-4abe-b02b-3a3fc222ff2f",
   "metadata": {},
   "outputs": [
    {
     "data": {
      "text/plain": [
       "36"
      ]
     },
     "execution_count": 10,
     "metadata": {},
     "output_type": "execute_result"
    }
   ],
   "source": [
    "# Finding and concatenating news cards\n",
    "cards = sppbs[0].find_all(class_ = 'sppb-col-md-3') + sppbs[1].find_all(class_ = 'sppb-col-md-3') + sppbs[2].find_all(class_ = 'sppb-col-md-3') + sppbs[3].find_all(class_ = 'sppb-col-md-3')+ sppbs[4].find_all(class_ = 'sppb-col-md-3') + sppbs[5].find_all(class_ = 'sppb-col-md-3') + sppbs[6].find_all(class_ = 'sppb-col-md-3') + sppbs[7].find_all(class_ = 'sppb-col-md-3') + sppbs[8].find_all(class_ = 'sppb-col-md-3')\n",
    "len(cards)"
   ]
  },
  {
   "cell_type": "code",
   "execution_count": null,
   "id": "cc27d07c-f733-4311-aab0-2d3f8055bd42",
   "metadata": {},
   "outputs": [],
   "source": [
    "# Building a list with title and relative path of the news founded\n",
    "data = []\n",
    "\n",
    "for text in cards: \n",
    "     try:\n",
    "\n",
    "        data.append({\n",
    "            'imagen': text.find('img', class_ = 'sppb-img-responsive').get('src'),\n",
    "            'descripcion': text.find('span', class_ = 'sppb-person-designation').get_text(),\n",
    "            'redes': text.find('ul', class_ = 'sppb-person-social').find('a')['href']\n",
    "        })\n",
    "\n",
    "   \n",
    "     except:\n",
    "        data.append({\n",
    "            'imagen': text.find('img', class_ = 'sppb-img-responsive').get('src'),\n",
    "            'descripcion': text.find('span', class_ = 'sppb-person-designation').get_text()\n",
    "        })\n",
    " "
   ]
  },
  {
   "cell_type": "code",
   "execution_count": 11,
   "id": "44ad4aa6-daf4-4f11-86cb-a79ead6c9ae2",
   "metadata": {},
   "outputs": [
    {
     "ename": "NameError",
     "evalue": "name 'data' is not defined",
     "output_type": "error",
     "traceback": [
      "\u001b[1;31m---------------------------------------------------------------------------\u001b[0m",
      "\u001b[1;31mNameError\u001b[0m                                 Traceback (most recent call last)",
      "\u001b[1;32mC:\\Users\\ALFRED~1\\AppData\\Local\\Temp/ipykernel_20068/391604064.py\u001b[0m in \u001b[0;36m<module>\u001b[1;34m\u001b[0m\n\u001b[1;32m----> 1\u001b[1;33m \u001b[0mdata\u001b[0m\u001b[1;33m\u001b[0m\u001b[1;33m\u001b[0m\u001b[0m\n\u001b[0m",
      "\u001b[1;31mNameError\u001b[0m: name 'data' is not defined"
     ]
    }
   ],
   "source": [
    "data"
   ]
  },
  {
   "cell_type": "code",
   "execution_count": null,
   "id": "de257c9a-4450-4c0b-b54f-0109cce9ba03",
   "metadata": {},
   "outputs": [],
   "source": []
  },
  {
   "cell_type": "code",
   "execution_count": null,
   "id": "3e97855d-de82-41c4-8322-2c56772b1299",
   "metadata": {},
   "outputs": [],
   "source": [
    "for n in data:\n",
    "    # Getting HTML content for each news page\n",
    "    soup = make_request(browser, n['sppb-person-social'])\n",
    "    \n",
    "    # Extracting news metadata\n",
    "    n['datetime'] = soup.find(class_ = 'ArticleHeader-Date').get_text()\n",
    "    n['author'] = soup.find(class_ = 'ACredit-Author').find('a').get_text()\n",
    "    n['summary'] = soup.find(class_ = 'ArticleHeader-Hook').find('div').get_text()\n",
    "    \n",
    "    # Extracting and concatenating news full text\n",
    "    paragraphs = soup.find_all(class_ = 'font--secondary')\n",
    "    n['full_text'] = ' '.join([p.get_text() for p in paragraphs])"
   ]
  },
  {
   "cell_type": "code",
   "execution_count": null,
   "id": "a102caf5-fe32-4d08-aa1d-85856dfc05c0",
   "metadata": {},
   "outputs": [],
   "source": []
  },
  {
   "cell_type": "code",
   "execution_count": null,
   "id": "b9ad6f88-91ea-41e5-83db-dd7234cf106b",
   "metadata": {},
   "outputs": [],
   "source": [
    "# Storing extracted information for further analysis\n",
    "collection.insert_many(data)"
   ]
  },
  {
   "cell_type": "code",
   "execution_count": null,
   "id": "1a17c321-5c0e-4222-8c31-5fe01d8d32b7",
   "metadata": {},
   "outputs": [],
   "source": []
  }
 ],
 "metadata": {
  "kernelspec": {
   "display_name": "Python 3 (ipykernel)",
   "language": "python",
   "name": "python3"
  },
  "language_info": {
   "codemirror_mode": {
    "name": "ipython",
    "version": 3
   },
   "file_extension": ".py",
   "mimetype": "text/x-python",
   "name": "python",
   "nbconvert_exporter": "python",
   "pygments_lexer": "ipython3",
   "version": "3.9.7"
  }
 },
 "nbformat": 4,
 "nbformat_minor": 5
}
